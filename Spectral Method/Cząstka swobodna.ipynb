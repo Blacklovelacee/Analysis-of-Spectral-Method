{
 "cells": [
  {
   "cell_type": "code",
   "execution_count": 1,
   "id": "3e12a2e9-844c-4a71-889a-c734a0883832",
   "metadata": {},
   "outputs": [],
   "source": [
    "import numpy as np\n",
    "import matplotlib.pyplot as plt\n",
    "import matplotlib.animation as animation\n",
    "from scipy.fft import fft, ifft, fftfreq\n",
    "from scipy.signal import find_peaks"
   ]
  },
  {
   "cell_type": "code",
   "execution_count": 154,
   "id": "7979557e-f624-4161-82ad-79da0ec26bed",
   "metadata": {},
   "outputs": [
    {
     "data": {
      "text/plain": [
       "1638.4"
      ]
     },
     "execution_count": 154,
     "metadata": {},
     "output_type": "execute_result"
    }
   ],
   "source": [
    "# Parametry siatki\n",
    "N = 2**11            # liczba punktów siatki - 1 w każdym kierunku\n",
    "L = 400           # długość boku obszaru\n",
    "x = np.linspace(-L/2, L/2, N)\n",
    "dx = x[1] - x[0]         # krok przestrzenny\n",
    "\n",
    "# Parametry fizyczne\n",
    "ħ = 1.0\n",
    "m = 1\n",
    "dt = 0.05         # krok czasowy\n",
    "Nt = 2**15\n",
    "T_max = Nt * dt       # maksymalny czas\n",
    "T_max"
   ]
  },
  {
   "cell_type": "code",
   "execution_count": 159,
   "id": "e465f455-2895-480c-8c08-8f774b75a5ad",
   "metadata": {},
   "outputs": [],
   "source": [
    "# Początkowa funkcja falowa — funkcja Gaussa\n",
    "a = 0\n",
    "sigma = 0.1\n",
    "ψ = (1 / (2 * np.pi * sigma**2))**0.25 * np.exp(-x**2 / (4 * sigma**2))\n",
    "ψ /= np.sqrt(np.sum(np.abs(ψ)**2) * dx)\n",
    "\n",
    "ψ0 = ψ.copy()  # zapisuję funkcję początkową do korelacji"
   ]
  },
  {
   "cell_type": "code",
   "execution_count": 160,
   "id": "62f2be1b-99ba-46b6-82db-fbec0e7212f3",
   "metadata": {},
   "outputs": [],
   "source": [
    "# FFT: przygotowanie współrzędnych pędu\n",
    "kx = 2 * np.pi * fftfreq(N, dx)\n",
    "K2 = kx**2\n",
    "\n",
    "# Fazy propagacji\n",
    "T_phase = np.exp(-1j * (ħ * K2 / (2 * m)) * dt)"
   ]
  },
  {
   "cell_type": "code",
   "execution_count": 161,
   "id": "cb8bfd1c-283c-4770-8d7e-53d099d86aef",
   "metadata": {},
   "outputs": [],
   "source": [
    "psi_t = []  # Lista funkcji falowych w kolejnych chwilach czasu\n",
    "psi_t.append(ψ0.copy())\n",
    "\n",
    "# Pętla czasowa\n",
    "for _ in range(Nt):\n",
    "    # pół krok w pędzie\n",
    "    ψ_temp = fft(ψ)\n",
    "    ψ_temp *= T_phase\n",
    "    ψ = ifft(ψ_temp)\n",
    "    \n",
    "    # Dodaję ψ do zbioru psi w czasie\n",
    "    psi_t.append(ψ.copy())\n",
    "\n",
    "# Robienie z psi_t wektora\n",
    "psi_t = np.array(psi_t)\n",
    "\n",
    "# Czas i amplituda korelacji\n",
    "t_values = np.arange(Nt) * dt\n"
   ]
  },
  {
   "cell_type": "code",
   "execution_count": null,
   "id": "8d62e7ff-2392-4f1c-b4f6-0fed7e5610b5",
   "metadata": {},
   "outputs": [],
   "source": []
  },
  {
   "cell_type": "code",
   "execution_count": 175,
   "id": "92669b88-ea09-4fcf-ad2b-1d35708fba23",
   "metadata": {},
   "outputs": [
    {
     "data": {
      "image/png": "[encoded data removed]",
      "text/plain": [
       "<Figure size 640x480 with 1 Axes>"
      ]
     },
     "metadata": {},
     "output_type": "display_data"
    }
   ],
   "source": [
    "import matplotlib.animation as animation\n",
    "\n",
    "fig, ax = plt.subplots()\n",
    "\n",
    "line, = ax.plot([], [], lw=2)\n",
    "line_psi_kw_liter, = ax.plot([], [], lw=1,  label=\"$\\psi_{lit}$(x)\", color = 'green')\n",
    "\n",
    "ax.set_xlim(x.min(), x.max())\n",
    "ax.set_ylim(0, 0.1)\n",
    "\n",
    "ax.set_xlabel(\"x\")\n",
    "ax.set_ylabel(\"$|ψ(t)|^2$\")\n",
    "plt.show()\n",
    "\n",
    "def init():\n",
    "    line.set_data([], [])\n",
    "    return line, line_psi_kw_liter\n",
    "\n",
    "def update(frame):\n",
    "    line_psi_kw_liter.set_data(x, np.abs(psi_lit[frame, :])**2)\n",
    "    line.set_data(x, np.abs(psi_t[frame])**2)\n",
    "    ax.set_title(f\"t = {t_values[frame]:.2f}\")\n",
    "    return line, line_psi_kw_liter\n",
    "\n",
    "ani = animation.FuncAnimation(fig, update, frames = range(0, Nt//64, 1), init_func=init, blit=True)"
   ]
  },
  {
   "cell_type": "code",
   "execution_count": 176,
   "id": "55311246-7319-433a-983e-be0243f0b1c7",
   "metadata": {},
   "outputs": [],
   "source": [
    "# Robię filmik ewolucji funkcji w czasie\n",
    "\n",
    "from matplotlib.animation import FFMpegWriter\n",
    "import matplotlib as mpl\n",
    "\n",
    "mpl.rcParams['animation.ffmpeg_path'] = r'C:\\ffmpeg\\bin\\ffmpeg.exe'\n",
    "\n",
    "writer = FFMpegWriter(fps=30, metadata=dict(artist='Me'), bitrate=2800)\n",
    "ani.save(\"cząstka swobodna.mp4\", writer=writer)"
   ]
  },
  {
   "cell_type": "code",
   "execution_count": null,
   "id": "cb1a9f10-14fc-46a6-b0da-5b09fa6ddfd7",
   "metadata": {},
   "outputs": [],
   "source": []
  },
  {
   "cell_type": "code",
   "execution_count": null,
   "id": "e09dfdab-2348-4df7-8973-d1b7c8584fe0",
   "metadata": {},
   "outputs": [],
   "source": []
  },
  {
   "cell_type": "code",
   "execution_count": 162,
   "id": "9c56e241-3a14-4f54-bfe2-d52a95a27353",
   "metadata": {},
   "outputs": [
    {
     "data": {
      "text/plain": [
       "'\\npsi_kw_liter = (\\n    1 / np.sqrt(2 * np.pi * (sigma**2 + ħ**2 * T**2 / (4 * m**2 * sigma**2)))\\n    * np.exp(-X**2 / (2 * (sigma**2 + ħ**2 * T**2 / (4 * m**2 * sigma**2))))\\n)\\n'"
      ]
     },
     "execution_count": 162,
     "metadata": {},
     "output_type": "execute_result"
    }
   ],
   "source": [
    "T, X = np.meshgrid(t_values, x, indexing='ij')"
   ]
  },
  {
   "cell_type": "code",
   "execution_count": 163,
   "id": "8500331b-d026-4b30-9b07-1b31e62f0c3f",
   "metadata": {},
   "outputs": [],
   "source": [
    "psi_lit = (2 * np.pi)**(-0.25) * (sigma + 1j * T / (2 * sigma))**(-0.5) * np.exp(-X**2 / (4*sigma**2 + 2j*T))\n",
    "psi_lit /= np.sqrt(np.sum(np.abs(psi_lit)**2, axis=1)[:, None] * dx)"
   ]
  },
  {
   "cell_type": "code",
   "execution_count": 164,
   "id": "ab557da6-7df9-4980-a610-e641104cd6e3",
   "metadata": {},
   "outputs": [
    {
     "data": {
      "image/png": "[encoded data removed]",
      "text/plain": [
       "<Figure size 640x480 with 1 Axes>"
      ]
     },
     "metadata": {},
     "output_type": "display_data"
    }
   ],
   "source": [
    "import matplotlib.pyplot as plt\n",
    "\n",
    "center_index = np.argmin(np.abs(x))  # indeks najbliższy x = 0\n",
    "\n",
    "psi_center_vals = np.abs(psi_lit[:, center_index])**2\n",
    "psi_t_c = np.abs(psi_t[:, center_index])**2\n",
    "\n",
    "plt.plot(t_values[:100], psi_center_vals[:100], label='psi_lit')\n",
    "plt.plot(t_values[:100], psi_t_c[:100], label='psi_t')\n",
    "plt.xlabel(\"t\")\n",
    "plt.ylabel(\"|ψ(0,t)|²\")\n",
    "plt.title(\"Zanik amplitudy w środku\")\n",
    "plt.grid(True)\n",
    "plt.legend()\n",
    "plt.show()\n"
   ]
  },
  {
   "cell_type": "code",
   "execution_count": null,
   "id": "e254e4b9-ac4e-42e7-8a47-0f62a9127ae0",
   "metadata": {},
   "outputs": [],
   "source": []
  },
  {
   "cell_type": "code",
   "execution_count": null,
   "id": "e8cb5747-2970-4bcc-8e0b-51647e37435a",
   "metadata": {},
   "outputs": [],
   "source": []
  }
 ],
 "metadata": {
  "kernelspec": {
   "display_name": "Python 3 (ipykernel)",
   "language": "python",
   "name": "python3"
  },
  "language_info": {
   "codemirror_mode": {
    "name": "ipython",
    "version": 3
   },
   "file_extension": ".py",
   "mimetype": "text/x-python",
   "name": "python",
   "nbconvert_exporter": "python",
   "pygments_lexer": "ipython3",
   "version": "3.11.13"
  }
 },
 "nbformat": 4,
 "nbformat_minor": 5
}
