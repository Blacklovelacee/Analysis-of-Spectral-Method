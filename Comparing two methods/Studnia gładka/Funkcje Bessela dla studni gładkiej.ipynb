{
 "cells": [
  {
   "cell_type": "code",
   "execution_count": 1,
   "id": "120d5ec8-5c6c-42ae-9e20-f4ce3cb5c31e",
   "metadata": {},
   "outputs": [],
   "source": [
    "import matplotlib.pyplot as plt\n",
    "import numpy as np\n",
    "import mpmath as mp"
   ]
  },
  {
   "cell_type": "code",
   "execution_count": 2,
   "id": "e422b82c-055b-4a68-88ee-07ff575c6a75",
   "metadata": {},
   "outputs": [],
   "source": [
    "m = 1\n",
    "hbar = 1\n",
    "E = -120.26"
   ]
  },
  {
   "cell_type": "code",
   "execution_count": 3,
   "id": "7655d36d-7adf-42dc-a81a-9e01c98b6de4",
   "metadata": {},
   "outputs": [],
   "source": [
    "v = 2*np.sqrt(2*m*(70-E))/hbar"
   ]
  },
  {
   "cell_type": "code",
   "execution_count": 7,
   "id": "fe1122aa-a1da-4f92-a3b1-0d7e16d1a0f9",
   "metadata": {},
   "outputs": [
    {
     "data": {
      "image/png": "[encoded data removed]",
      "text/plain": [
       "<Figure size 640x480 with 1 Axes>"
      ]
     },
     "metadata": {},
     "output_type": "display_data"
    }
   ],
   "source": [
    "def u_left(x):\n",
    "    return (4/hbar) * mp.e**((4+x)/2) * mp.sqrt(35*m)\n",
    "    \n",
    "def u_right(x):\n",
    "    return (4/hbar) * mp.e**((3-x)/2) * mp.sqrt(35*m)\n",
    "\n",
    "# funkcja falowa w regionie x< x1\n",
    "def psi_left(x, C1=1.0, C2=0.0):\n",
    "    u = u_left(x)\n",
    "    return C1*mp.besselj(v, u) + C2*mp.bessely(v, u)\n",
    "\n",
    "def psi_right(x, C1=1.0, C2=0.0):\n",
    "    u = u_right(x)\n",
    "    return C1*mp.besselj(v, u) + C2*mp.bessely(v, u)\n",
    "\n",
    "def z_fun(x): return 2*(5)**0.25*(x+0.5)\n",
    "    \n",
    "def v_parab(E): return 0.5*(1/np.sqrt(5)*(122.5+E)-1)\n",
    "\n",
    "def psi_center(x, C1=1.0, C2=1.0):\n",
    "    v = v_parab(E)\n",
    "    z = z_fun(x)\n",
    "    \n",
    "    val1, _ = pbdv(v, z)\n",
    "    val2, _ = pbdv(v, -z)\n",
    "    \n",
    "    return C1*val1 + C2*val2\n",
    "\n",
    "\n",
    "# przykładowe wartości\n",
    "xs_left = np.linspace(-10, -4, 200)   # realna siatka\n",
    "xs_right = np.linspace(3, 10, 200)\n",
    "ys_left = [psi_left(x) for x in xs_left]\n",
    "ys_right = [psi_right(x) for x in xs_right]\n",
    "\n",
    "xs_center = np.linspace(-4, 3, 200)\n",
    "ys_center = [psi_center(x) for x in xs_center]\n",
    "\n",
    "plt.plot(xs_left, np.abs(ys_left)**2, color='blue', label=\"ψ\")\n",
    "plt.plot(xs_right, np.abs(ys_right)**2, color='blue')\n",
    "plt.plot(xs_center, 2e-20*np.abs(ys_center)**2, color='blue')\n",
    "plt.legend()\n",
    "plt.show()"
   ]
  },
  {
   "cell_type": "code",
   "execution_count": null,
   "id": "56e9417c-7ff7-427c-9157-23b49f36c451",
   "metadata": {},
   "outputs": [],
   "source": []
  },
  {
   "cell_type": "code",
   "execution_count": 6,
   "id": "e14cd51d-b4bc-4dfe-b3a0-193ada95270d",
   "metadata": {},
   "outputs": [],
   "source": [
    "import numpy as np\n",
    "from scipy.special import jv, jvp, pbdv\n",
    "from scipy.optimize import minimize_scalar\n",
    "import math\n",
    "\n",
    "# parametry (ustalone przez Ciebie)\n",
    "m = 1.0\n",
    "hbar = 1.0\n",
    "x1, x2 = -4.0, 3.0\n",
    "\n",
    "# funkcje pomocnicze (u bez zależności od E - zgodnie z wcześniejszymi definicjami)\n",
    "def u_left(x): return 4/hbar * math.exp((x+4)/2) * math.sqrt(35*m)\n",
    "def u_right(x): return 4/hbar * math.exp((3-x)/2) * math.sqrt(35*m)\n",
    "def z_fun(x): return 2*(5*m/hbar**2)**0.25*(x+0.5)\n",
    "def v_bessel(E): return 2*np.sqrt(2*m*(70 - E))/hbar\n",
    "def v_parab(E): return 0.5*(1/hbar*np.sqrt(m/5)*(122.5+E)-1)\n",
    "\n",
    "def Dv(v, z):\n",
    "    val, _ = pbdv(v, z)   # scipy funkcja\n",
    "    return val\n",
    "\n",
    "def Dvp(v, z):\n",
    "    _, val = pbdv(v, z)\n",
    "    return val\n",
    "\n",
    "def Jv(v, u): return jv(v, u)\n",
    "def Jvp(v, u): return jvp(v, u)\n",
    "\n",
    "def determinant(E):\n",
    "    try:\n",
    "        v1 = v_bessel(E)\n",
    "        v2 = v_parab(E)\n",
    "        u1 = u_left(x1); u2 = u_right(x2)\n",
    "        z1 = z_fun(x1); z2 = z_fun(x2)\n",
    "        alpha = 2*(5*m/hbar**2)**0.25\n",
    "        du1dx = u1/2; du2dx = -u2/2\n",
    "\n",
    "        M = np.zeros((4,4), dtype=complex)\n",
    "        M[0,:] = [Jv(v1, u1), -Dv(v2, z1), -Dv(v2, -z1), 0]\n",
    "        M[1,:] = [du1dx*Jvp(v1, u1), -alpha*Dvp(v2, z1), alpha*Dvp(v2, -z1), 0]\n",
    "        M[2,:] = [0, -Dv(v2, z2), -Dv(v2, -z2), Jv(v1, u2)]\n",
    "        M[3,:] = [0, -alpha*Dvp(v2, z2), alpha*Dvp(v2, -z2), du2dx*Jvp(v1, u2)]\n",
    "        return np.linalg.det(M)\n",
    "    except Exception:\n",
    "        return np.nan + 1j*np.nan\n",
    "\n",
    "# skan i wykrywanie lokalnych minimów |det|\n",
    "Es = np.linspace(-122.5, 70, 9000)   # gęsta siatka\n",
    "det_vals = np.array([determinant(E) for E in Es])\n",
    "abs_vals = np.abs(det_vals)\n",
    "\n",
    "min_idx = [i for i in range(1, len(Es)-1) if np.isfinite(abs_vals[i])\n",
    "           and abs_vals[i] < abs_vals[i-1] and abs_vals[i] < abs_vals[i+1]]\n",
    "\n",
    "candidates = []\n",
    "for i in min_idx:\n",
    "    a = Es[max(0, i-1)]\n",
    "    b = Es[min(len(Es)-1, i+1)]\n",
    "    res = minimize_scalar(lambda E: np.abs(determinant(E)), bounds=(a,b), method='bounded', options={'xatol':1e-10})\n",
    "    Eopt = res.x\n",
    "    val = np.abs(determinant(Eopt))\n",
    "    candidates.append((Eopt, val))"
   ]
  },
  {
   "cell_type": "code",
   "execution_count": 8,
   "id": "ead7a3eb-a209-462b-a70f-6ef4525772fd",
   "metadata": {},
   "outputs": [
    {
     "name": "stdout",
     "output_type": "stream",
     "text": [
      "Najlepsze minima |det| (E, |det|):\n"
     ]
    }
   ],
   "source": [
    "# filtruj po tolerancji i posortuj\n",
    "threshold = 1e-10   # dostosuj: mniejsze -> dokładniejsze wymagania\n",
    "good = [c for c in candidates if np.isfinite(c[1])]\n",
    "print(\"Najlepsze minima |det| (E, |det|):\")\n",
    "for e, v in good:\n",
    "    flag = \"<-- możliwe E\" if v < threshold else \"\"\n",
    "    #print(f\"{e:.12f}, {v:.3e} {flag}\")"
   ]
  },
  {
   "cell_type": "code",
   "execution_count": 9,
   "id": "74381ab6-3fea-4e49-8232-23dfd94c634a",
   "metadata": {},
   "outputs": [
    {
     "data": {
      "text/plain": [
       "np.float64(2.3333333333333335)"
      ]
     },
     "execution_count": 9,
     "metadata": {},
     "output_type": "execute_result"
    }
   ],
   "source": [
    "np.mean([1,2,4])"
   ]
  },
  {
   "cell_type": "code",
   "execution_count": 10,
   "id": "a16b077b-9f1d-4fb4-9305-e7ce8c0e60b0",
   "metadata": {},
   "outputs": [
    {
     "name": "stdout",
     "output_type": "stream",
     "text": [
      "Clusters found: 96\n",
      "96 1 members; range:  -120.263932  -120.263932\n",
      "94 1 members; range:  -115.791796  -115.791796\n",
      "95 1 members; range:  -111.319660  -111.319660\n",
      "91 1 members; range:  -106.847524  -106.847524\n",
      "92 1 members; range:  -102.375388  -102.375388\n",
      "93 1 members; range:   -97.903253   -97.903253\n",
      "85 1 members; range:   -93.431116   -93.431116\n",
      "86 1 members; range:   -88.958981   -88.958981\n",
      "90 1 members; range:   -84.486844   -84.486844\n",
      "89 1 members; range:   -80.014708   -80.014708\n",
      "87 1 members; range:   -75.542572   -75.542572\n",
      "88 1 members; range:   -71.070437   -71.070437\n",
      "83 1 members; range:   -66.598300   -66.598300\n",
      "84 1 members; range:   -62.126166   -62.126166\n",
      "1 1 members; range:   -57.654030   -57.654030\n",
      "2 1 members; range:   -56.927677   -56.927677\n",
      "5 1 members; range:   -54.635910   -54.635910\n",
      "3 1 members; range:   -53.181965   -53.181965\n",
      "4 1 members; range:   -52.455471   -52.455471\n",
      "8 1 members; range:   -50.164748   -50.164748\n",
      "7 1 members; range:   -48.710307   -48.710307\n",
      "6 3 members; range:   -47.966968   -47.851929\n",
      "9 2 members; range:   -46.076502   -45.692335\n",
      "11 1 members; range:   -44.238096   -44.238096\n",
      "10 2 members; range:   -43.509782   -43.344932\n",
      "30 5 members; range:   -41.696148   -41.293706\n",
      "47 1 members; range:   -39.765802   -39.765802\n",
      "45 2 members; range:   -39.038002   -38.880350\n",
      "46 19 members; range:   -38.202413   -36.513035\n",
      "64 1 members; range:   -35.297183   -35.297183\n",
      "63 1 members; range:   -34.411973   -34.411973\n",
      "62 24 members; range:   -33.838299   -31.768426\n",
      "66 1 members; range:   -30.825279   -30.825279\n",
      "65 19 members; range:   -29.918411   -27.373938\n",
      "61 1 members; range:   -26.364076   -26.364076\n",
      "60 3 members; range:   -25.442777   -24.817463\n",
      "59 15 members; range:   -24.218424   -22.931152\n",
      "58 1 members; range:   -21.891828   -21.891828\n",
      "56 1 members; range:   -20.972003   -20.972003\n",
      "55 21 members; range:   -20.394439   -18.311771\n",
      "57 1 members; range:   -17.410043   -17.410043\n",
      "54 1 members; range:   -16.500056   -16.500056\n",
      "53 16 members; range:   -15.890262   -14.011355\n",
      "52 1 members; range:   -12.938987   -12.938987\n",
      "51 23 members; range:   -12.040145    -9.497612\n",
      "50 1 members; range:    -8.461913    -8.461913\n",
      "49 3 members; range:    -7.577495    -7.013615\n",
      "48 17 members; range:    -6.506457    -5.207046\n",
      "70 1 members; range:    -3.992275    -3.992275\n",
      "69 25 members; range:    -3.088905    -0.579830\n",
      "68 1 members; range:     0.480268     0.480268\n",
      "67 21 members; range:     1.371769     3.831727\n",
      "73 1 members; range:     4.954324     4.954324\n",
      "72 4 members; range:     5.847473     6.430327\n",
      "71 16 members; range:     6.982402     8.323931\n",
      "82 1 members; range:     9.424922     9.424922\n",
      "80 1 members; range:    10.315797    10.315797\n",
      "79 18 members; range:    10.857470    13.007162\n",
      "81 1 members; range:    13.890739    13.890739\n",
      "78 3 members; range:    14.782674    15.203704\n",
      "77 22 members; range:    15.746815    17.268134\n",
      "76 1 members; range:    18.367472    18.367472\n",
      "74 2 members; range:    19.254867    19.413299\n",
      "75 15 members; range:    20.126855    21.400670\n",
      "32 1 members; range:    22.839343    22.839343\n",
      "31 20 members; range:    23.738707    26.110208\n",
      "44 1 members; range:    27.314407    27.314407\n",
      "42 29 members; range:    28.209570    30.895912\n",
      "43 1 members; range:    31.783940    31.783940\n",
      "40 3 members; range:    32.676697    32.845755\n",
      "41 22 members; range:    33.363003    35.271731\n",
      "39 1 members; range:    36.256680    36.256680\n",
      "38 26 members; range:    37.151160    39.690715\n",
      "37 1 members; range:    40.723444    40.723444\n",
      "36 19 members; range:    41.623659    44.164401\n",
      "35 1 members; range:    45.197358    45.197358\n",
      "33 14 members; range:    46.100906    47.491344\n",
      "34 1 members; range:    48.100394    48.100394\n",
      "14 1 members; range:    49.670926    49.670926\n",
      "12 2 members; range:    50.586619    50.720198\n",
      "13 1 members; range:    51.506489    51.506489\n",
      "26 8 members; range:    52.729646    53.264596\n",
      "27 1 members; range:    54.147286    54.147286\n",
      "25 15 members; range:    55.049363    57.476025\n",
      "29 1 members; range:    58.612028    58.612028\n",
      "28 13 members; range:    59.523330    60.325814\n",
      "19 2 members; range:    61.516708    61.652423\n",
      "18 4 members; range:    62.249472    62.475324\n",
      "20 1 members; range:    63.084376    63.084376\n",
      "22 1 members; range:    63.980362    63.980362\n",
      "21 6 members; range:    64.508687    65.102459\n",
      "24 1 members; range:    65.986828    65.986828\n",
      "23 3 members; range:    66.643438    67.563240\n",
      "15 2 members; range:    68.461725    68.521853\n",
      "16 1 members; range:    69.093085    69.093085\n",
      "17 1 members; range:    69.966313    69.966313\n",
      "\n",
      "Refined candidates (sorted by |det|):\n",
      "-120.263932\n",
      "-115.791796\n",
      "-111.319660\n",
      "-106.847524\n",
      "-102.375388\n",
      "-97.903253\n",
      "-93.431116\n",
      "-88.958981\n",
      "-84.486844\n",
      "-80.014708\n",
      "-75.542572\n",
      "-71.070437\n",
      "-66.598300\n",
      "-62.126166\n",
      "-57.654030\n",
      "-56.927677\n",
      "-54.635910\n",
      "-53.181965\n",
      "-52.455471\n",
      "-50.164748\n",
      "-48.710307\n",
      "-47.913346\n",
      "-45.884418\n",
      "-44.238096\n",
      "-43.427357\n",
      "-41.461836\n",
      "-39.765802\n",
      "-38.959176\n",
      "-37.259194\n",
      "-35.297183\n",
      "-34.411973\n",
      "-32.664364\n",
      "-30.825279\n",
      "-28.502933\n",
      "-26.364076\n",
      "-25.185397\n",
      "-23.562857\n",
      "-21.891828\n",
      "-20.972003\n",
      "-19.374502\n",
      "-17.410043\n",
      "-16.500056\n",
      "-14.914216\n",
      "-12.938987\n",
      "-10.530390\n",
      "-8.461913\n",
      "-7.242602\n",
      "-5.985216\n",
      "-3.992275\n",
      "-1.837034\n",
      "0.480268\n",
      "2.723267\n",
      "4.954324\n",
      "6.148334\n",
      "7.692950\n",
      "9.424922\n",
      "10.315797\n",
      "11.764097\n",
      "13.890739\n",
      "15.048074\n",
      "16.503638\n",
      "18.367472\n",
      "19.334083\n",
      "20.797889\n",
      "22.839343\n",
      "25.102741\n",
      "27.314407\n",
      "29.532104\n",
      "31.783940\n",
      "32.772664\n",
      "34.156643\n",
      "36.256680\n",
      "38.514560\n",
      "40.723444\n",
      "43.010102\n",
      "45.197358\n",
      "46.904739\n",
      "48.100394\n",
      "49.670926\n",
      "50.653409\n",
      "51.506489\n",
      "53.014917\n",
      "54.147286\n",
      "56.437914\n",
      "58.612028\n",
      "59.913116\n",
      "61.584565\n",
      "62.356103\n",
      "63.084376\n",
      "63.980362\n",
      "64.863102\n",
      "65.986828\n",
      "67.110098\n",
      "68.491789\n",
      "69.093085\n",
      "69.966313\n"
     ]
    },
    {
     "name": "stderr",
     "output_type": "stream",
     "text": [
      "C:\\Users\\Maciej\\AppData\\Local\\Temp\\ipykernel_21448\\1219192459.py:15: RuntimeWarning: invalid value encountered in sqrt\n",
      "  def v_bessel(E): return 2*np.sqrt(2*m*(70 - E))/hbar\n"
     ]
    },
    {
     "ename": "NameError",
     "evalue": "name 'refined_sorted' is not defined",
     "output_type": "error",
     "traceback": [
      "\u001b[31m---------------------------------------------------------------------------\u001b[39m",
      "\u001b[31mNameError\u001b[39m                                 Traceback (most recent call last)",
      "\u001b[36mCell\u001b[39m\u001b[36m \u001b[39m\u001b[32mIn[10]\u001b[39m\u001b[32m, line 55\u001b[39m\n\u001b[32m     53\u001b[39m plt.yscale(\u001b[33m'\u001b[39m\u001b[33mlog\u001b[39m\u001b[33m'\u001b[39m)\n\u001b[32m     54\u001b[39m plt.plot(Es, vals, \u001b[33m'\u001b[39m\u001b[33m-\u001b[39m\u001b[33m'\u001b[39m, lw=\u001b[32m0.7\u001b[39m)\n\u001b[32m---> \u001b[39m\u001b[32m55\u001b[39m \u001b[38;5;28;01mfor\u001b[39;00m r \u001b[38;5;129;01min\u001b[39;00m \u001b[43mrefined_sorted\u001b[49m:\n\u001b[32m     56\u001b[39m     plt.axvline(r[\u001b[33m'\u001b[39m\u001b[33mE_minimize\u001b[39m\u001b[33m'\u001b[39m], color=\u001b[33m'\u001b[39m\u001b[33mred\u001b[39m\u001b[33m'\u001b[39m, alpha=\u001b[32m0.6\u001b[39m)\n\u001b[32m     57\u001b[39m     \u001b[38;5;28;01mif\u001b[39;00m r[\u001b[33m'\u001b[39m\u001b[33mE_root\u001b[39m\u001b[33m'\u001b[39m] \u001b[38;5;129;01mis\u001b[39;00m \u001b[38;5;129;01mnot\u001b[39;00m \u001b[38;5;28;01mNone\u001b[39;00m:\n",
      "\u001b[31mNameError\u001b[39m: name 'refined_sorted' is not defined"
     ]
    },
    {
     "data": {
      "image/png": "[encoded data removed]",
      "text/plain": [
       "<Figure size 800x600 with 1 Axes>"
      ]
     },
     "metadata": {},
     "output_type": "display_data"
    }
   ],
   "source": [
    "import numpy as np\n",
    "from scipy.cluster.hierarchy import linkage, fcluster\n",
    "from scipy.optimize import minimize_scalar, root\n",
    "import matplotlib.pyplot as plt\n",
    "\n",
    "# --- Wstaw tu swoją funkcję determinant(E) --------------------------------\n",
    "# def determinant(E): ...\n",
    "# ----------------------------------------------------------------------------\n",
    "\n",
    "# przykładowa lista kandydatów (zamień na swoją listę)\n",
    "candidates = np.array(good)[:,0]\n",
    "\n",
    "# 1) CLUSTERING (hierarchiczne) --------------------------------------------\n",
    "# threshold = maksymalna odległość (w energy units) by łączyć w jeden klaster\n",
    "threshold = 0.5   # dostosuj: 0.5..1.5 typowe; zmniejsz jeśli chcesz bardziej konserwatywnie\n",
    "Z = linkage(candidates.reshape(-1,1), method='single')  # single / complete / average\n",
    "labels = fcluster(Z, t=threshold, criterion='distance')\n",
    "\n",
    "clusters = {}\n",
    "for lab, val in zip(labels, candidates):\n",
    "    clusters.setdefault(lab, []).append(val)\n",
    "\n",
    "print(\"Clusters found:\", len(clusters))\n",
    "for k,v in clusters.items():\n",
    "    print(f\"{k} {len(v)} members; range: {min(v):12.6f} {max(v):12.6f}\")\n",
    "\n",
    "# 2) REFINEMENT: dla każdego klastra uruchom lokalną minimalizację |det(E)| ----\n",
    "refined = []\n",
    "for k, vals in clusters.items():\n",
    "#    a = min(vals) - 1.0   # rozszerz przedział lokalny o margines\n",
    "#    b = max(vals) + 1.0\n",
    "    # ogranicz do zakresu wcześniej badanych energii, jeśli chcesz\n",
    "#    res = minimize_scalar(lambda E: np.abs(determinant(E)), bounds=(a,b), method='bounded')\n",
    "#    Eopt = res.x\n",
    "    refined.append(np.mean(vals))\n",
    "#    det_val = determinant(Eopt)\n",
    "#    abs_det = np.abs(det_val)\n",
    "    \n",
    "#    if abs_det < 1e-8:\n",
    "#        print(f\"Stan związany: E = {Eopt:.10f}, |det| = {abs_det:.2e}\")\n",
    "    \n",
    "\n",
    "# 3) SORTUJ wynik po |det| (najlepsze u góry) i wypisz -----------------------\n",
    "print(\"\\nRefined candidates (sorted by |det|):\")\n",
    "for r in refined:\n",
    "    print(f\"{r:.6f}\")\n",
    "\n",
    "# 4) PLOT diagnostyczny (opcjonalny) ----------------------------------------\n",
    "# Jeżeli chcesz widok |det| w okolicy każdego wyniku:\n",
    "plt.figure(figsize=(8,6))\n",
    "Es = np.linspace(min(candidates)-2, max(candidates)+2, 2000)\n",
    "vals = np.array([np.abs(determinant(E)) for E in Es])\n",
    "plt.yscale('log')\n",
    "plt.plot(Es, vals, '-', lw=0.7)\n",
    "for r in refined_sorted:\n",
    "    plt.axvline(r['E_minimize'], color='red', alpha=0.6)\n",
    "    if r['E_root'] is not None:\n",
    "        plt.axvline(r['E_root'], color='green', linestyle='--', alpha=0.8)\n",
    "plt.xlabel(\"E\")\n",
    "plt.ylabel(\"|det(E)| (log scale)\")\n",
    "plt.title(\"Diagnostyka minimów det\")\n",
    "plt.grid(True, which='both', ls=':', alpha=0.4)\n",
    "plt.show()\n"
   ]
  },
  {
   "cell_type": "code",
   "execution_count": 172,
   "id": "81ca6b2f-8d6b-4d3d-a7b7-736809d3860c",
   "metadata": {},
   "outputs": [
    {
     "data": {
      "text/plain": [
       "106"
      ]
     },
     "execution_count": 172,
     "metadata": {},
     "output_type": "execute_result"
    }
   ],
   "source": [
    "len(refined)"
   ]
  },
  {
   "cell_type": "code",
   "execution_count": 71,
   "id": "647c9ff5-10ea-49ec-a2c4-b6690aed5510",
   "metadata": {},
   "outputs": [
    {
     "data": {
      "text/plain": [
       "(1058,)"
      ]
     },
     "execution_count": 71,
     "metadata": {},
     "output_type": "execute_result"
    }
   ],
   "source": [
    "np.shape(np.array(good)[:,0])"
   ]
  },
  {
   "cell_type": "code",
   "execution_count": 70,
   "id": "c3dad3d2-d3c1-41ab-9b92-d1cd20077007",
   "metadata": {},
   "outputs": [
    {
     "ename": "TypeError",
     "evalue": "list indices must be integers or slices, not tuple",
     "output_type": "error",
     "traceback": [
      "\u001b[31m---------------------------------------------------------------------------\u001b[39m",
      "\u001b[31mTypeError\u001b[39m                                 Traceback (most recent call last)",
      "\u001b[36mCell\u001b[39m\u001b[36m \u001b[39m\u001b[32mIn[70]\u001b[39m\u001b[32m, line 1\u001b[39m\n\u001b[32m----> \u001b[39m\u001b[32m1\u001b[39m l = \u001b[38;5;28;43mlist\u001b[39;49m\u001b[43m(\u001b[49m\u001b[43mgood\u001b[49m\u001b[43m)\u001b[49m\u001b[43m[\u001b[49m\u001b[43m:\u001b[49m\u001b[43m,\u001b[49m\u001b[32;43m0\u001b[39;49m\u001b[43m]\u001b[49m\n",
      "\u001b[31mTypeError\u001b[39m: list indices must be integers or slices, not tuple"
     ]
    }
   ],
   "source": [
    "l = good[:,0]"
   ]
  },
  {
   "cell_type": "code",
   "execution_count": null,
   "id": "7a3a787f-94dd-4d26-9aaf-332a694426e2",
   "metadata": {},
   "outputs": [],
   "source": []
  }
 ],
 "metadata": {
  "kernelspec": {
   "display_name": "Python 3 (ipykernel)",
   "language": "python",
   "name": "python3"
  },
  "language_info": {
   "codemirror_mode": {
    "name": "ipython",
    "version": 3
   },
   "file_extension": ".py",
   "mimetype": "text/x-python",
   "name": "python",
   "nbconvert_exporter": "python",
   "pygments_lexer": "ipython3",
   "version": "3.11.13"
  }
 },
 "nbformat": 4,
 "nbformat_minor": 5
}
