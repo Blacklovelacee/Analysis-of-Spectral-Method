{
 "cells": [
  {
   "cell_type": "code",
   "execution_count": 9,
   "id": "bcbb64be-e95f-48f0-a7c7-2adf2b9c8e33",
   "metadata": {},
   "outputs": [
    {
     "name": "stdout",
     "output_type": "stream",
     "text": [
      "D*(k1 + I*k2)*exp(I*x0*(-k1 + 3.0*k2))/(k1*exp(4.0*I*k2*x0) - k1 + I*k2*exp(4.0*I*k2*x0) + I*k2)\n"
     ]
    }
   ],
   "source": [
    "import sympy as sp\n",
    "\n",
    "# Zmienne symboliczne\n",
    "C, D, k1 = sp.symbols('C D k1', complex=True)\n",
    "k2, x0 = sp.symbols('k2 x0', real=True)\n",
    "# k2 = sqrt(E - Vp), kappa = sqrt(Vp0 - E)\n",
    "\n",
    "A_r, A_i, B_r, B_i = sp.symbols('A_r A_i B_r B_i', real=True)\n",
    "\n",
    "A = A_r + sp.I * A_i\n",
    "B = B_r + sp.I * B_i\n",
    "\n",
    "# Teraz |A|^2 = A_r**2 + A_i**2\n",
    "absA2 = A_r**2 + A_i**2\n",
    "absB2 = B_r**2 + B_i**2\n",
    "\n",
    "conjA_B_minus_conjB_A = (A_r - sp.I * A_i)*(B_r + sp.I * B_i) - (B_r - sp.I * B_i)*(A_r + sp.I * A_i)\n",
    "\n",
    "# upraszczamy\n",
    "conjA_B_minus_conjB_A = sp.simplify(conjA_B_minus_conjB_A)\n",
    "\n",
    "\n",
    "# Eksponenty\n",
    "exp_pos = sp.exp(1j * k2 * x0)\n",
    "exp_neg = sp.exp(-1j * k2 * x0)\n",
    "exp_kappa = sp.exp(-1j * k1 * x0)\n",
    "sum_A_B = (sp.Abs(A)**2 + sp.Abs(B)**2)\n",
    "\n",
    "# Równania z warunków brzegowych\n",
    "\n",
    "eq1 = sp.Eq(C * exp_kappa, A * exp_neg + B * exp_pos)\n",
    "eq2 = sp.Eq(-k1 * C * exp_kappa, 1j * k2 * (-A * exp_neg + B * exp_pos))\n",
    "eq3 = sp.Eq(A * exp_pos + B * exp_neg, D * exp_kappa)\n",
    "eq4 = sp.Eq(2 * x0 * (absA2 + absB2) + 2 * sp.sin(2 * k2 * x0) * (conjA_B_minus_conjB_A) / k2, 1)\n",
    "\n",
    "# Układ równań\n",
    "eqs = [eq1, eq2, eq3, eq4]\n",
    "solution = sp.solve(eqs, (A, B, C, D), dict=True)\n",
    "\n",
    "print(sp.simplify(solution[0][A]))"
   ]
  },
  {
   "cell_type": "code",
   "execution_count": 17,
   "id": "50e0482d-52f3-4de8-b033-2fde3ee345f4",
   "metadata": {},
   "outputs": [
    {
     "data": {
      "text/latex": [
       "$\\displaystyle A = 1$"
      ],
      "text/plain": [
       "Eq(A, 1)"
      ]
     },
     "execution_count": 17,
     "metadata": {},
     "output_type": "execute_result"
    }
   ],
   "source": [
    "eq4"
   ]
  },
  {
   "cell_type": "code",
   "execution_count": 2,
   "id": "9cc4a15f-e6eb-4bd2-859c-c1fab54ba207",
   "metadata": {},
   "outputs": [],
   "source": [
    "\n",
    "sum_A_B = (sp.Abs(A)**2 + sp.Abs(B)**2)"
   ]
  },
  {
   "cell_type": "code",
   "execution_count": null,
   "id": "915ede39-92c4-45c6-8bb6-8391229205ab",
   "metadata": {},
   "outputs": [],
   "source": []
  },
  {
   "cell_type": "code",
   "execution_count": null,
   "id": "0323f62f-52e4-4689-98fd-1f0a9144c67d",
   "metadata": {},
   "outputs": [],
   "source": [
    "import sympy as sp\n",
    "\n",
    "# Zmienne rzeczywiste\n",
    "k1, k2, x0 = sp.symbols('k1 k2 x0', real=True)\n",
    "\n",
    "# C, D rozbijamy na części rzeczywiste i urojone\n",
    "C_r, C_i, D_r, D_i = sp.symbols('C_r C_i D_r D_i', real=True)\n",
    "\n",
    "# A i B rozbite na część rzeczywistą i urojoną\n",
    "A_r, A_i, B_r, B_i = sp.symbols('A_r A_i B_r B_i', real=True)\n",
    "\n",
    "A = A_r + sp.I * A_i\n",
    "B = B_r + sp.I * B_i\n",
    "C = C_r + sp.I * C_i\n",
    "D = D_r + sp.I * D_i\n",
    "\n",
    "# Eksponenty\n",
    "exp_pos = sp.exp(1j * k2 * x0)\n",
    "exp_neg = sp.exp(-1j * k2 * x0)\n",
    "exp_kappa = sp.exp(-k1 * x0)  # bez i!\n",
    "\n",
    "# Równania brzegowe (uwaga na minus w eq2)\n",
    "eq1 = sp.Eq(C * exp_kappa, A * exp_neg + B * exp_pos)\n",
    "eq2 = sp.Eq(-k1 * C * exp_kappa, 1j * k2 * (-A * exp_neg + B * exp_pos))\n",
    "eq3 = sp.Eq(A * exp_pos + B * exp_neg, D * exp_kappa)\n",
    "eq4 = sp.Eq(2 * x0 * (A_r**2 + A_i**2 + B_r**2 + B_i**2) +\n",
    "           2 * sp.sin(2 * k2 * x0) * ((A_r * B_i - A_i * B_r) * 2) / k2, 1)\n",
    "# (A_r B_i - A_i B_r) odpowiada wyrażeniu (conjA_B - conjB_A)/ (2i)\n",
    "\n",
    "eqs = [eq1, eq2, eq3, eq4]\n",
    "\n",
    "# Rozwiązujemy względem wszystkich zmiennych rzeczywistych\n",
    "variables = [A_r, A_i, B_r, B_i, C_r, C_i, D_r, D_i]\n",
    "\n",
    "# Rozwiązanie może być trudne, można próbować uprościć\n",
    "solution = sp.solve(eqs, variables, dict=True)\n",
    "\n",
    "print(solution)\n"
   ]
  },
  {
   "cell_type": "code",
   "execution_count": null,
   "id": "27faec3a-ebe6-4077-bcb5-fe9db3c04abf",
   "metadata": {},
   "outputs": [],
   "source": [
    "\n",
    "print(sp.simplify(solution[0][A]))"
   ]
  },
  {
   "cell_type": "code",
   "execution_count": null,
   "id": "7a41bf7e-f4bf-4202-843f-c5413f2f0a0b",
   "metadata": {},
   "outputs": [],
   "source": []
  },
  {
   "cell_type": "code",
   "execution_count": null,
   "id": "af8fbf6e-19cf-4c08-990d-5633a11b23c4",
   "metadata": {},
   "outputs": [],
   "source": [
    "\n",
    "\n",
    "# Zapisz układ w formie macierzowej: M @ [A, B, C, D] = 0\n",
    "vars = [A, B, C, D]\n",
    "M = sp.zeros(4,4)\n",
    "\n",
    "for i, eq in enumerate(eqs):\n",
    "    # Przenieś wszystko na lewą stronę\n",
    "    expr = eq.lhs - eq.rhs\n",
    "    # Rozpisz na zmienne\n",
    "    for j, var in enumerate(vars):\n",
    "        coeff = expr.coeff(var)\n",
    "        M[i, j] = coeff\n",
    "\n",
    "print(\"Macierz współczynników M:\")\n",
    "sp.pprint(M)\n",
    "\n",
    "# Warunek niezerowego rozwiązania (wartości własne): det(M) = 0\n",
    "detM = M.det()\n",
    "print(\"\\nWyznacznik macierzy (warunek na energie):\")\n",
    "sp.pprint(detM)\n",
    "\n",
    "# Możemy uprościć wyrażenie:\n",
    "detM_simplified = sp.simplify(detM)\n",
    "print(\"\\nUproszczony wyznacznik:\")\n",
    "sp.pprint(detM_simplified)\n"
   ]
  }
 ],
 "metadata": {
  "kernelspec": {
   "display_name": "Python 3 (ipykernel)",
   "language": "python",
   "name": "python3"
  },
  "language_info": {
   "codemirror_mode": {
    "name": "ipython",
    "version": 3
   },
   "file_extension": ".py",
   "mimetype": "text/x-python",
   "name": "python",
   "nbconvert_exporter": "python",
   "pygments_lexer": "ipython3",
   "version": "3.11.13"
  }
 },
 "nbformat": 4,
 "nbformat_minor": 5
}
